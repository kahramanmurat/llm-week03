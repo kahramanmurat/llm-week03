{
 "cells": [
  {
   "cell_type": "code",
   "execution_count": 1,
   "id": "46e0d89e-1f7b-4c7f-8d64-281d7b44a3ec",
   "metadata": {},
   "outputs": [],
   "source": [
    "import openai"
   ]
  },
  {
   "cell_type": "code",
   "execution_count": 2,
   "id": "71a31308-6ecc-45f8-b7e1-dd337916139a",
   "metadata": {},
   "outputs": [],
   "source": [
    "from openai import OpenAI"
   ]
  },
  {
   "cell_type": "code",
   "execution_count": 3,
   "id": "3a0940e5-e84e-4419-82fb-40d780dbbae4",
   "metadata": {},
   "outputs": [],
   "source": [
    "client=OpenAI()"
   ]
  },
  {
   "cell_type": "code",
   "execution_count": 5,
   "id": "8cd1032f-29b6-4d77-9ff2-e13ed8d1f93b",
   "metadata": {},
   "outputs": [],
   "source": [
    "import os"
   ]
  },
  {
   "cell_type": "code",
   "execution_count": 8,
   "id": "f7f3640a-af5d-4437-b846-40ed94aee8d0",
   "metadata": {},
   "outputs": [],
   "source": [
    "response=client.chat.completions.create(\n",
    "    model='gpt-4o',\n",
    "    messages=[{'role':'user','content':'Is it too late to join the course?'}]\n",
    ")"
   ]
  },
  {
   "cell_type": "code",
   "execution_count": 19,
   "id": "775db2b3-acd4-46a6-8236-dfe65f30f037",
   "metadata": {},
   "outputs": [
    {
     "data": {
      "text/plain": [
       "\"It depends on various factors such as the specific course you're interested in, the institution offering it, their enrollment policies, and the timing within the academic calendar. Here are a few steps you can take to find out if you can still join the course:\\n\\n1. **Check the Course Schedule:** Look up the course details on the institution's website to see if enrollment deadlines or add/drop periods are listed.\\n\\n2. **Contact the Instructor or Department:** Reach out directly to the instructor or the department offering the course. They can give you specific information about whether late enrollment is possible.\\n\\n3. **Talk to the Admission Office:** The admissions or registrar's office can provide guidance on policies regarding late enrollments and any potential penalties or additional procedures.\\n\\n4. **Review Policies:** Check the institution's handbook or guidelines regarding late enrollment, which may be available on their website.\\n\\n5. **Consider Online Options:** If it's too late for in-person courses, you might have better luck with online courses, which often have more flexible enrollment periods.\\n\\nAct quickly, as the sooner you inquire, the more options you’ll likely have.\""
      ]
     },
     "execution_count": 19,
     "metadata": {},
     "output_type": "execute_result"
    }
   ],
   "source": [
    "response.choices[0].message.content"
   ]
  },
  {
   "cell_type": "code",
   "execution_count": null,
   "id": "b3b35bf0-976f-427e-b2d8-82a64989778e",
   "metadata": {},
   "outputs": [],
   "source": []
  }
 ],
 "metadata": {
  "kernelspec": {
   "display_name": "Python 3 (ipykernel)",
   "language": "python",
   "name": "python3"
  },
  "language_info": {
   "codemirror_mode": {
    "name": "ipython",
    "version": 3
   },
   "file_extension": ".py",
   "mimetype": "text/x-python",
   "name": "python",
   "nbconvert_exporter": "python",
   "pygments_lexer": "ipython3",
   "version": "3.10.13"
  }
 },
 "nbformat": 4,
 "nbformat_minor": 5
}
